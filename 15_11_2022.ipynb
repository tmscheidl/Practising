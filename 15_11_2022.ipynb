{
 "cells": [
  {
   "cell_type": "code",
   "execution_count": 67,
   "id": "f431217a",
   "metadata": {},
   "outputs": [
    {
     "name": "stdout",
     "output_type": "stream",
     "text": [
      "fib (1)= 0\n",
      "fib (2)= 1\n",
      "fib (3)= 2\n",
      "fib (7)= 13\n",
      "fib(-2) = -1\n"
     ]
    }
   ],
   "source": [
    "def fib(n:int) -> int:\n",
    "    \n",
    "    i, n1, n2= 0, 0, 1\n",
    "    \n",
    "    if n < 0:\n",
    "        return print(\"fib(\"+str(n)+\") =\", -1)\n",
    "    elif n == 1:\n",
    "        return 1\n",
    "    else:\n",
    "        for i in range(n):\n",
    "           # print(\"fib (\"+str(i)+\")=\",n1)\n",
    "            F = n1 + n2\n",
    "            n1 = n2\n",
    "            n2 = F\n",
    "        print(\"fib (\"+str(i+1)+\")=\",n1)\n",
    "\n",
    "        return\n",
    "\n",
    "\n",
    "#fib(int(input()))\n",
    "fib(0)\n",
    "fib(1)\n",
    "fib(2)\n",
    "fib(3)\n",
    "fib(7)\n",
    "fib(-2)"
   ]
  },
  {
   "cell_type": "code",
   "execution_count": 117,
   "id": "08e584a4",
   "metadata": {},
   "outputs": [
    {
     "name": "stdout",
     "output_type": "stream",
     "text": [
      "clip() = []\n",
      "clip(1, 2, 0.1, 0) = [1, 1, 0.1, 0]\n",
      "clip(-1, 0.5) = [0, 0.5]\n",
      "clip(-1, 0.5, -2) min_=-2 = [-1, 0.5]\n",
      "clip(-1, 0.5, 0.3) max_=0.3 = [0, 0.3]\n",
      "clip(-1, 0.5, 3, 2) min_=2 max_=3 = [2, 2]\n"
     ]
    }
   ],
   "source": [
    "def clip(*values, min_=0, max_=1) -> list:\n",
    "    \n",
    "    lst = []\n",
    "    value = list(values)\n",
    "    for i in range(len(value)):\n",
    "        if value[i] < min_:\n",
    "            lst.append(min_)\n",
    "           # min_1 = value[i]\n",
    "        elif value[i] > max_:\n",
    "            lst.append(max_)\n",
    "           # max_1 = value[i]\n",
    "        else:\n",
    "            lst.append(value[i])\n",
    "                   \n",
    "    if min_ == 0 and max_ ==1:\n",
    "        return print(\"clip\"+str(values)+\" =\", lst)\n",
    "    elif min_ == 0:\n",
    "        value.append(max_)\n",
    "        values = tuple(value)\n",
    "        return print(\"clip\"+str(values)+\" max_=\"+str(max_)+\" =\", lst)\n",
    "    elif max_ == 1:\n",
    "        value.append(min_)\n",
    "        values = tuple(value)\n",
    "        return print(\"clip\"+str(values)+\" min_=\"+str(min_)+\" =\", lst)\n",
    "    else:\n",
    "        value.append(max_)\n",
    "        value.append(min_)\n",
    "        values = tuple(value)\n",
    "        return print(\"clip\"+str(values)+\" min_=\"+str(min_)+\" max_=\"+str(max_)+\" =\", lst)\n",
    "\n",
    "clip()\n",
    "clip(1, 2, 0.1, 0)\n",
    "clip(-1, 0.5)\n",
    "clip(-1, 0.5, min_=-2)\n",
    "clip(-1, 0.5, max_=0.3)\n",
    "clip(-1, 0.5, min_=2, max_=3)"
   ]
  },
  {
   "cell_type": "code",
   "execution_count": 133,
   "id": "cefc2ef9",
   "metadata": {},
   "outputs": [
    {
     "name": "stdout",
     "output_type": "stream",
     "text": [
      "create_train_test_splits([], 0.5) =  ([], [])\n",
      "create_train_test_splits([0, 1, 2, 3, 4, 5, 6, 7, 8, 9], 0.5) =  ([0, 1, 2, 3, 4], [5, 6, 7, 8, 9])\n",
      "create_train_test_splits([0, 1, 2, 3, 4, 5, 6, 7, 8, 9], 0.67) =  ([0, 1, 2, 3, 4, 5], [6, 7, 8, 9])\n",
      "create_train_test_splits([0, 1, 2, 3, 4, 5, 6, 7, 8, 9], 0.9) =  ([0, 1, 2, 3, 4, 5, 6, 7, 8], [9])\n"
     ]
    }
   ],
   "source": [
    "def create_train_test_splits(data: list, train_size: float) -> tuple:\n",
    "    results = []\n",
    "    datas = []\n",
    "    split_1 = data[:int(len(data)*train_size)]\n",
    "    split_2 = [x for x in data if x not in split_1]\n",
    "    \n",
    "    results.append(split_1)\n",
    "    results.append(split_2)\n",
    "    \n",
    "    datas.append(data)\n",
    "    datas.append(train_size)\n",
    "    \n",
    "    data = tuple(datas)\n",
    "    result = tuple(results)\n",
    "    \n",
    "    return print(\"create_train_test_splits\"+str(data)+\" = \", result)\n",
    "\n",
    "create_train_test_splits([], 0.5)\n",
    "create_train_test_splits(list(range(10)), 0.5)\n",
    "create_train_test_splits(list(range(10)), 0.67)"
   ]
  },
  {
   "cell_type": "code",
   "execution_count": 208,
   "id": "a866840e",
   "metadata": {},
   "outputs": [
    {
     "name": "stdout",
     "output_type": "stream",
     "text": [
      "round_(777.777) = 778\n",
      "round_(777.777, 0) = 778.0\n",
      "round_(777.777, 1) = 777.8\n",
      "round_(777.777, 2) = 777.78\n",
      "round_(777.777, 3) = 777.777\n",
      "round_(777.777, 4) = 777.777\n",
      "round_(777.777, -1) = 780.0\n",
      "round_(777.777, -2) = 800.0\n",
      "round_(777.777, -3) = 1000.0\n",
      "round_(777.777, -4) = 0.0\n"
     ]
    }
   ],
   "source": [
    "def round_(number, ndigits: int = None):\n",
    "    if ndigits is None:\n",
    "        result = (int(number + 0.5))\n",
    "        return print(\"round_(\"+str(number)+\") =\", int(result))\n",
    "    else:\n",
    "        result = (int(pow(10,ndigits)*number + 0.5)) / pow(10,ndigits)\n",
    "        return print(\"round_(\"+str(number)+\", \"+str(ndigits)+\") =\", result)\n",
    "    \n",
    "round_(777.777)\n",
    "round_(777.777, 0)\n",
    "round_(777.777, 1)\n",
    "round_(777.777, 2)\n",
    "round_(777.777, 3)\n",
    "round_(777.777, 4)\n",
    "round_(777.777, -1)\n",
    "round_(777.777, -2)\n",
    "round_(777.777, -3)\n",
    "round_(777.777, -4)"
   ]
  },
  {
   "cell_type": "code",
   "execution_count": 230,
   "id": "1bde31d3",
   "metadata": {},
   "outputs": [
    {
     "name": "stdout",
     "output_type": "stream",
     "text": [
      "sort(elements, True) -> some_list = [0, 1, 3, 4, 5]\n",
      "sort(elements, False) -> some_list = [5, 4, 3, 1, 0]\n"
     ]
    }
   ],
   "source": [
    "def sort(elements: list, ascending: bool = True):\n",
    "    lst = []\n",
    "    min = elements[0]\n",
    "    max = elements[0]\n",
    "    \n",
    "    if ascending == True:\n",
    "        for i in range(len(elements)):\n",
    "            for j in range(i+1, len(elements)):\n",
    "                if elements[i] > elements[j]:\n",
    "                    elements[i], elements[j] = elements[j], elements[i]\n",
    "    else:\n",
    "        for i in range(len(elements)):\n",
    "            for j in range(i+1, len(elements)):\n",
    "                if elements[i] < elements[j]:\n",
    "                    elements[i], elements[j] = elements[j], elements[i]\n",
    "    return print(\"sort(elements, \"+str(ascending)+\") -> some_list =\",elements)\n",
    "\n",
    "some_list = [1, 3, 0, 4, 5]          \n",
    "sort(some_list)\n",
    "sort(some_list, False)"
   ]
  },
  {
   "cell_type": "code",
   "execution_count": null,
   "id": "da07a8d7",
   "metadata": {},
   "outputs": [],
   "source": []
  },
  {
   "cell_type": "code",
   "execution_count": null,
   "id": "07409751",
   "metadata": {},
   "outputs": [],
   "source": []
  }
 ],
 "metadata": {
  "kernelspec": {
   "display_name": "Python 3 (ipykernel)",
   "language": "python",
   "name": "python3"
  },
  "language_info": {
   "codemirror_mode": {
    "name": "ipython",
    "version": 3
   },
   "file_extension": ".py",
   "mimetype": "text/x-python",
   "name": "python",
   "nbconvert_exporter": "python",
   "pygments_lexer": "ipython3",
   "version": "3.9.7"
  }
 },
 "nbformat": 4,
 "nbformat_minor": 5
}
