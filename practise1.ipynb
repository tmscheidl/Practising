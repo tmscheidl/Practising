{
 "cells": [
  {
   "cell_type": "code",
   "execution_count": 2,
   "id": "beab5232",
   "metadata": {},
   "outputs": [
    {
     "name": "stdout",
     "output_type": "stream",
     "text": [
      "Enter the width: 2\n",
      "Enter the squat: 232\n",
      "Enter the bench press: 3232\n",
      "Enter the deadlift: 23\n",
      "##############################\n",
      "#  Powerlifting 2022W        #\n",
      "##############################\n",
      "Maximum Squat:        232.0 kg\n",
      "Maximum Bench Press:  3232.0 kg\n",
      "Maximum Deadlift:     23.0 kg\n",
      "------------------------------\n",
      "Total:               3487.0 kg\n"
     ]
    }
   ],
   "source": [
    "p = int(input(\"Enter the width: \"))\n",
    "y = float(input(\"Enter the squat: \"))\n",
    "z = float(input(\"Enter the bench press: \"))\n",
    "u = float(input(\"Enter the deadlift: \"))\n",
    "print(\"##############################\")\n",
    "print(\"#\", \"\", \"Powerlifting 2022W\",\"       #\")\n",
    "print(\"##############################\")\n",
    "print(\"Maximum Squat:       \", round(y,1) ,\"kg\")\n",
    "print(\"Maximum Bench Press: \", round(z,1) ,\"kg\")\n",
    "print(\"Maximum Deadlift:    \", round(u,1) , \"kg\")\n",
    "print(\"------------------------------\")\n",
    "print(\"Total:              \", round(y+z+u,1) ,\"kg\")\n"
   ]
  },
  {
   "cell_type": "code",
   "execution_count": null,
   "id": "843ba8bd",
   "metadata": {},
   "outputs": [],
   "source": []
  },
  {
   "cell_type": "code",
   "execution_count": 49,
   "id": "07666309",
   "metadata": {},
   "outputs": [
    {
     "name": "stdout",
     "output_type": "stream",
     "text": [
      "Before: None\n",
      "Loop: 3 3\n",
      "Loop: 41 3\n",
      "Loop: 12 3\n",
      "Loop: 9 3\n",
      "Loop: 74 3\n",
      "Loop: 15 3\n",
      "Smallest: 3\n"
     ]
    }
   ],
   "source": [
    "smallest = None\n",
    "print(\"Before:\", smallest)\n",
    "for itervar in [3, 41, 12, 9, 74, 15]:\n",
    "    if smallest is None or itervar < smallest:\n",
    "        smallest = itervar\n",
    "        \n",
    "    print(\"Loop:\", itervar, smallest)\n",
    "print(\"Smallest:\", smallest)"
   ]
  },
  {
   "cell_type": "code",
   "execution_count": 55,
   "id": "5ed24a66",
   "metadata": {},
   "outputs": [
    {
     "name": "stdout",
     "output_type": "stream",
     "text": [
      "2\n"
     ]
    }
   ],
   "source": [
    "word = \"bananana \"\n",
    "i = word.find(\"na\")\n",
    "print(i)"
   ]
  },
  {
   "cell_type": "code",
   "execution_count": 2,
   "id": "079318e2",
   "metadata": {},
   "outputs": [
    {
     "name": "stdout",
     "output_type": "stream",
     "text": [
      "add your age: 19\n",
      "Give me your salary: 1222\n",
      "Reduced Adult ticket 2: 25$\n"
     ]
    }
   ],
   "source": [
    "age = int(input(\"add your age: \"))\n",
    "if age <= 0:\n",
    "    print(\"Error, Invalid age\")\n",
    "elif age<= 7:\n",
    "    print(\"Child Ticket: 10$\")\n",
    "elif age <= 17:\n",
    "    print(\"Teenager Ticket: 15$\")\n",
    "elif age >= 18:\n",
    "    sal= int(input(\"Give me your salary: \"))\n",
    "    if sal <= 0:\n",
    "        print (\"Error, Invalid salary\")\n",
    "        quit()\n",
    "    elif sal <= 1000:\n",
    "        print(\"Reduced Adult ticket 1: 20$\")\n",
    "    elif sal <= 2000:\n",
    "        print(\"Reduced Adult ticket 2: 25$\")\n",
    "    else:\n",
    "        print(\"Adult ticket: 30$\")  "
   ]
  },
  {
   "cell_type": "code",
   "execution_count": 13,
   "id": "7c2be33f",
   "metadata": {},
   "outputs": [
    {
     "name": "stdout",
     "output_type": "stream",
     "text": [
      "Write something text: AHHHs sdasdasjSSd. sds\n",
      "The uppercase letter:  A\n",
      "The uppercase letter:  H\n",
      "The uppercase letter:  H\n",
      "The uppercase letter:  H\n",
      "The uppercase letter:  S\n",
      "The uppercase letter:  S\n",
      "Total number of all uppercase letters:  6\n"
     ]
    }
   ],
   "source": [
    "text = str(input(\"Write something text: \"))\n",
    "count = 0\n",
    "for a in text:\n",
    "    if (a.isupper()) == True:\n",
    "        print(\"The uppercase letter: \", a)\n",
    "        count += 1\n",
    "print(\"Total number of all uppercase letters: \", count)"
   ]
  },
  {
   "cell_type": "code",
   "execution_count": 9,
   "id": "fad5bd74",
   "metadata": {},
   "outputs": [
    {
     "name": "stdout",
     "output_type": "stream",
     "text": [
      " Give a number: 12\n",
      " Give a number: 11\n",
      "Your number is smaller\n",
      " Give a number: 13\n",
      "Your number is bigger\n",
      " Give a number: exit\n",
      "Your number is bigger\n",
      "You lost!\n"
     ]
    }
   ],
   "source": [
    "num = input(\" Give a number: \")\n",
    "num2 = 0\n",
    "\n",
    "while num != num2:\n",
    "    num2 = input(\" Give a number: \").lower()\n",
    "    \n",
    "    if num < num2:\n",
    "        print(\"Your number is bigger\")\n",
    "        \n",
    "    elif num > num2:\n",
    "        print(\"Your number is smaller\")\n",
    "    \n",
    "    if num2 == 'exit':\n",
    "        print(\"You lost!\")\n",
    "        num = 'exit'\n",
    "    \n",
    "if num == num2 and num != 'exit':\n",
    "    print(\"Congratulations!\")"
   ]
  },
  {
   "cell_type": "code",
   "execution_count": 4,
   "id": "24c38ab0",
   "metadata": {},
   "outputs": [
    {
     "ename": "IndentationError",
     "evalue": "expected an indented block (3683011830.py, line 10)",
     "output_type": "error",
     "traceback": [
      "\u001b[0;36m  File \u001b[0;32m\"/var/folders/mq/c9bp509d2_3_qrzy7bsbjfv00000gn/T/ipykernel_66789/3683011830.py\"\u001b[0;36m, line \u001b[0;32m10\u001b[0m\n\u001b[0;31m    x = len(range(start,stop,step))\u001b[0m\n\u001b[0m    ^\u001b[0m\n\u001b[0;31mIndentationError\u001b[0m\u001b[0;31m:\u001b[0m expected an indented block\n"
     ]
    }
   ],
   "source": []
  },
  {
   "cell_type": "code",
   "execution_count": null,
   "id": "d7e9f8b8",
   "metadata": {},
   "outputs": [],
   "source": []
  },
  {
   "cell_type": "code",
   "execution_count": null,
   "id": "5828ccd6",
   "metadata": {},
   "outputs": [],
   "source": []
  }
 ],
 "metadata": {
  "kernelspec": {
   "display_name": "Python 3 (ipykernel)",
   "language": "python",
   "name": "python3"
  },
  "language_info": {
   "codemirror_mode": {
    "name": "ipython",
    "version": 3
   },
   "file_extension": ".py",
   "mimetype": "text/x-python",
   "name": "python",
   "nbconvert_exporter": "python",
   "pygments_lexer": "ipython3",
   "version": "3.9.7"
  }
 },
 "nbformat": 4,
 "nbformat_minor": 5
}
