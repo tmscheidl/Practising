{
 "cells": [
  {
   "cell_type": "code",
   "execution_count": null,
   "id": "f4468d13",
   "metadata": {},
   "outputs": [
    {
     "name": "stdout",
     "output_type": "stream",
     "text": [
      "Welcome to Data Statistics!\n",
      "\n",
      "\n",
      "Available actions:\n",
      "a - Add number:\n",
      "v - View the calculated statistics: \n",
      "x - Exit the program: \n",
      "\n",
      "\n",
      "Enter action: a\n",
      "Enter number or 'x' when you are done: \n",
      "2\n",
      "Enter number or 'x' when you are done: \n",
      "3\n",
      "Enter number or 'x' when you are done: \n",
      "4\n",
      "Enter number or 'x' when you are done: \n",
      "x\n",
      "Enter action: v\n",
      "No numbers have been added yet!\n"
     ]
    }
   ],
   "source": [
    "start = int(input(\"start: \"))\n",
    "stop = int(input(\"stop: \"))\n",
    "step = int(input (\"step: \"))\n",
    "\n",
    "print(\"\\n\")\n",
    "odd_counter = 0\n",
    "even_sum = 0\n",
    "\n",
    "for i in range(start,stop,step):\n",
    "    \n",
    "    x = len(range(start,stop,step))\n",
    "\n",
    "    if i % 2 == 1:\n",
    "        odd_counter += 1\n",
    "    elif i % 2 == 0:\n",
    "        even_sum = even_sum + i\n",
    "        \n",
    "    if i == start + step :\n",
    "        print(\"2nd value in range = \", i)\n",
    "    if i == start + (x-1) * step :\n",
    "        print(\"Last value in range = \", i)\n",
    "print(\"odd_counter = \", odd_counter)\n",
    "print(\"even_sum = \", even_sum)"
   ]
  },
  {
   "cell_type": "code",
   "execution_count": null,
   "id": "853cec54",
   "metadata": {},
   "outputs": [
    {
     "name": "stdout",
     "output_type": "stream",
     "text": [
      "Welcome to Data Statistics!\n",
      "\n",
      "\n",
      "Available actions:\n",
      "a - Add number:\n",
      "v - View the calculated statistics: \n",
      "x - Exit the program: \n",
      "\n",
      "\n",
      "Enter action: v\n",
      "No numbers have been added yet!\n",
      "Enter action: a\n",
      "Enter number or 'x' when you are done: \n",
      "x\n",
      "Enter action: v\n",
      "Count:  0\n",
      "Sum:  0\n",
      "Avg:  7.75\n",
      "Min:  None\n",
      "Max:  0\n"
     ]
    }
   ],
   "source": [
    "print(\"Welcome to Data Statistics!\")\n",
    "print(\"\\n\")\n",
    "print(\"Available actions:\")\n",
    "\n",
    "print(\"a - Add number:\")\n",
    "print(\"v - View the calculated statistics: \")\n",
    "print(\"x - Exit the program: \")\n",
    "print(\"\\n\")\n",
    "\n",
    "\n",
    "s = 0\n",
    "mi = None\n",
    "ma = 0\n",
    "count = 0\n",
    "x = None\n",
    "\n",
    "while True:\n",
    "    a = input(\"Enter action: \")\n",
    "        \n",
    "    if a != 'a' and a != 'v' and a != 'x':\n",
    "        print(\"Invalid action. \", a, \" Try again\")\n",
    "    \n",
    "    if a == 'a':\n",
    "        while a == 'a':\n",
    "            \n",
    "            print(\"Enter number or 'x' when you are done: \")\n",
    "            x = input()\n",
    "\n",
    "            if x == 'x':\n",
    "                break\n",
    "            else:\n",
    "                count += 1\n",
    "                s = s + int(x)\n",
    "                avg = s / count\n",
    "        \n",
    "                if int(ma) < int(x):\n",
    "                    ma = x\n",
    "            \n",
    "                if mi is None or int(mi) > int(x):\n",
    "                    mi = x\n",
    "            \n",
    "    if a == 'v':\n",
    "        if x != None and count != 0:    \n",
    "            print(\"Count: \", count)\n",
    "            print(\"Sum: \", s)\n",
    "            print(\"Avg: \", avg)\n",
    "            print(\"Min: \", mi)\n",
    "            print(\"Max: \", ma)\n",
    "        else:\n",
    "            print(\"No numbers have been added yet!\")\n",
    "    \n",
    "    if a == 'x':\n",
    "        print(\"Bye!\")\n",
    "        break\n",
    "    "
   ]
  },
  {
   "cell_type": "markdown",
   "id": "31eaf8fe",
   "metadata": {},
   "source": []
  },
  {
   "cell_type": "code",
   "execution_count": null,
   "id": "bdcf30cc",
   "metadata": {},
   "outputs": [],
   "source": []
  },
  {
   "cell_type": "code",
   "execution_count": null,
   "id": "647e9c8b",
   "metadata": {},
   "outputs": [],
   "source": []
  }
 ],
 "metadata": {
  "kernelspec": {
   "display_name": "Python 3 (ipykernel)",
   "language": "python",
   "name": "python3"
  },
  "language_info": {
   "codemirror_mode": {
    "name": "ipython",
    "version": 3
   },
   "file_extension": ".py",
   "mimetype": "text/x-python",
   "name": "python",
   "nbconvert_exporter": "python",
   "pygments_lexer": "ipython3",
   "version": "3.9.7"
  }
 },
 "nbformat": 4,
 "nbformat_minor": 5
}
