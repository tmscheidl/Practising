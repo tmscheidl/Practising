{
 "cells": [
  {
   "cell_type": "code",
   "execution_count": 433,
   "id": "1407913a",
   "metadata": {},
   "outputs": [
    {
     "name": "stdout",
     "output_type": "stream",
     "text": [
      "0\n",
      "1\n",
      "1\n",
      "2\n",
      "3\n",
      "5\n",
      "8\n",
      "13\n",
      "-1\n"
     ]
    }
   ],
   "source": [
    "def fib(n:int) -> int:\n",
    "  #  i,j = n-1, n-2\n",
    "    \n",
    "    if n == 0:\n",
    "        return 0\n",
    "    elif n <= 0:\n",
    "        return -1\n",
    "    elif n ==1:\n",
    "        return 1\n",
    "    else:\n",
    "    #return (fib(i + j))         \n",
    "        return (fib(n-1) + fib(n-2))\n",
    "\n",
    "\n",
    "#fib(int(input()))\n",
    "\n",
    "print(fib(0))\n",
    "print(fib(1))\n",
    "print(fib(2))\n",
    "print(fib(3))\n",
    "print(fib(4))\n",
    "print(fib(5))\n",
    "print(fib(6))\n",
    "print(fib(7))\n",
    "print(fib(-2))"
   ]
  },
  {
   "cell_type": "code",
   "execution_count": 434,
   "id": "9af4b79d",
   "metadata": {},
   "outputs": [
    {
     "name": "stdout",
     "output_type": "stream",
     "text": [
      "[-10]\n",
      "[-8]\n",
      "[-6]\n",
      "[-4]\n",
      "[]\n"
     ]
    }
   ],
   "source": [
    "def gen_range(start: int, stop: int, step: int = 1):\n",
    "    empty = list()\n",
    "    result = list()\n",
    "    \n",
    "    if step == 0:\n",
    "        print(\"ValueError\")\n",
    "        return\n",
    "    elif isinstance(start,int) and isinstance(stop,int) and isinstance(step,int):\n",
    "        if step < 0:\n",
    "            if stop <= start:\n",
    "               # print(start)\n",
    "                result.append(start)\n",
    "                print(result)\n",
    "                result += empty\n",
    "                gen_range(start + step, stop, step)\n",
    "            else:\n",
    "                return print(result)\n",
    "        else:\n",
    "            if start <= stop:\n",
    "               # print(start)\n",
    "                result.append(start)\n",
    "                print(result)\n",
    "                result += empty\n",
    "                gen_range(start + step, stop, step)\n",
    "            else:\n",
    "                return print(result)\n",
    "    else:\n",
    "        print(\"TypeError\")\n",
    "        return\n",
    "\n",
    "    \n",
    "        \n",
    "gen_range(-10,-3,2)"
   ]
  },
  {
   "cell_type": "code",
   "execution_count": 435,
   "id": "d9d22f9e",
   "metadata": {},
   "outputs": [
    {
     "data": {
      "text/plain": [
       "True"
      ]
     },
     "execution_count": 435,
     "metadata": {},
     "output_type": "execute_result"
    }
   ],
   "source": [
    "def binary_search(elements: list, x) -> bool:\n",
    "\n",
    "    low = 0\n",
    "    high = len(elements) - 1\n",
    "    mid = 0\n",
    "    if isinstance(x,int):\n",
    "        if high == low:\n",
    "            if elements[mid] == x:\n",
    "                return True\n",
    "            else:\n",
    "                return False\n",
    "        else:\n",
    "            if high > low:\n",
    "                mid = (low + high) // 2\n",
    "                if elements[mid] == x:\n",
    "                    return True\n",
    "                elif elements[mid] > x:\n",
    "                    element = elements[:len(elements)//2]\n",
    "                    return binary_search(element,x)\n",
    "                else:\n",
    "                    element = elements[len(elements)//2:]\n",
    "                    return binary_search(element,x)\n",
    "            else:\n",
    "                return False\n",
    "    else:\n",
    "        return False\n",
    "\n",
    "\n",
    "my_sorted_list = [1, 2, 5, 7, 8, 10, 20, 30, 41, 100]\n",
    "binary_search(my_sorted_list, 8)"
   ]
  },
  {
   "cell_type": "code",
   "execution_count": 278,
   "id": "9b154ee7",
   "metadata": {},
   "outputs": [
    {
     "data": {
      "text/plain": [
       "[1, 2, 4, 8, 9, 11, 12, 10, 5, 3, 6, 7]"
      ]
     },
     "execution_count": 278,
     "metadata": {},
     "output_type": "execute_result"
    }
   ],
   "source": [
    "def flatten(nested: list) -> list:\n",
    "    flat = []\n",
    "\n",
    "    for i in nested:\n",
    "        if isinstance(i,list):\n",
    "            flat.extend(flatten(i))\n",
    "        else:\n",
    "            flat.append(i)\n",
    "    return flat\n",
    "\n",
    "flatten([1, 2, [4, [8, 9, [11, 12], 10], 5], 3, [6, 7]])\n",
    "#flatten([[]])\n",
    "#flatten([[], [], [1], [], [1, [], [4, 5, [[[6]]]], 2, 3]])"
   ]
  },
  {
   "cell_type": "code",
   "execution_count": null,
   "id": "a82b826f",
   "metadata": {},
   "outputs": [],
   "source": []
  },
  {
   "cell_type": "code",
   "execution_count": 268,
   "id": "226d3140",
   "metadata": {},
   "outputs": [
    {
     "name": "stdout",
     "output_type": "stream",
     "text": [
      "[1, 2, []]\n"
     ]
    }
   ],
   "source": [
    "a = []\n",
    "b = [1,2]\n",
    "b.append(a)\n",
    "print(b)"
   ]
  },
  {
   "cell_type": "code",
   "execution_count": 439,
   "id": "919e211d",
   "metadata": {},
   "outputs": [
    {
     "name": "stdout",
     "output_type": "stream",
     "text": [
      "h1\n",
      "h2\n",
      "g1\n",
      "g4\n",
      "f1\n",
      "f4\n",
      "f5\n"
     ]
    }
   ],
   "source": [
    "def f(x: int):\n",
    "    try:\n",
    "        g(x)\n",
    "        print(\"f1\")\n",
    "    except ErrorA:\n",
    "        print(\"f2\")\n",
    "        raise ErrorC\n",
    "    except ErrorB:\n",
    "        print(\"f3\")\n",
    "    else:\n",
    "        print(\"f4\")\n",
    "    print(\"f5\")\n",
    "def g(x: int):\n",
    "    try:\n",
    "        h(x)\n",
    "        print(\"g1\")\n",
    "    except ErrorA:\n",
    "        print(\"g2\")\n",
    "        if x < -10:\n",
    "            raise ErrorC\n",
    "        print(\"g3\")\n",
    "    finally:\n",
    "        print(\"g4\")\n",
    "def h(x: int):\n",
    "    try:\n",
    "        if x < 0:\n",
    "            raise ErrorA\n",
    "        if x > 10:\n",
    "            raise ErrorB\n",
    "    finally:\n",
    "        print(\"h1\")\n",
    "    print(\"h2\")\n",
    "\n",
    "f(1)"
   ]
  },
  {
   "cell_type": "code",
   "execution_count": 430,
   "id": "145b740a",
   "metadata": {},
   "outputs": [
    {
     "name": "stdout",
     "output_type": "stream",
     "text": [
      "f1\n",
      "f2\n",
      "g1\n",
      "h9\n",
      "h4\n",
      "g5\n",
      "f5\n"
     ]
    },
    {
     "ename": "MemoryError",
     "evalue": "",
     "output_type": "error",
     "traceback": [
      "\u001b[0;31m---------------------------------------------------------------------------\u001b[0m",
      "\u001b[0;31mEOFError\u001b[0m                                  Traceback (most recent call last)",
      "\u001b[0;32m/var/folders/mq/c9bp509d2_3_qrzy7bsbjfv00000gn/T/ipykernel_12086/1817582099.py\u001b[0m in \u001b[0;36mg\u001b[0;34m(x)\u001b[0m\n\u001b[1;32m     16\u001b[0m         \u001b[0mprint\u001b[0m\u001b[0;34m(\u001b[0m\u001b[0;34m\"g1\"\u001b[0m\u001b[0;34m)\u001b[0m\u001b[0;34m\u001b[0m\u001b[0;34m\u001b[0m\u001b[0m\n\u001b[0;32m---> 17\u001b[0;31m         \u001b[0mh\u001b[0m\u001b[0;34m(\u001b[0m\u001b[0mx\u001b[0m\u001b[0;34m)\u001b[0m\u001b[0;34m\u001b[0m\u001b[0;34m\u001b[0m\u001b[0m\n\u001b[0m\u001b[1;32m     18\u001b[0m         \u001b[0;32mraise\u001b[0m \u001b[0mTypeError\u001b[0m\u001b[0;34m(\u001b[0m\u001b[0;34m\"Only integers are allowed\"\u001b[0m\u001b[0;34m)\u001b[0m\u001b[0;34m\u001b[0m\u001b[0;34m\u001b[0m\u001b[0m\n",
      "\u001b[0;32m/var/folders/mq/c9bp509d2_3_qrzy7bsbjfv00000gn/T/ipykernel_12086/1817582099.py\u001b[0m in \u001b[0;36mh\u001b[0;34m(x)\u001b[0m\n\u001b[1;32m     27\u001b[0m     \u001b[0;32mtry\u001b[0m\u001b[0;34m:\u001b[0m\u001b[0;34m\u001b[0m\u001b[0;34m\u001b[0m\u001b[0m\n\u001b[0;32m---> 28\u001b[0;31m         \u001b[0;32mraise\u001b[0m \u001b[0mEOFError\u001b[0m\u001b[0;34m\u001b[0m\u001b[0;34m\u001b[0m\u001b[0m\n\u001b[0m\u001b[1;32m     29\u001b[0m         \u001b[0mprint\u001b[0m\u001b[0;34m(\u001b[0m\u001b[0;34m\"h7\"\u001b[0m\u001b[0;34m)\u001b[0m\u001b[0;34m\u001b[0m\u001b[0;34m\u001b[0m\u001b[0m\n",
      "\u001b[0;31mEOFError\u001b[0m: ",
      "\nDuring handling of the above exception, another exception occurred:\n",
      "\u001b[0;31mMemoryError\u001b[0m                               Traceback (most recent call last)",
      "\u001b[0;32m/var/folders/mq/c9bp509d2_3_qrzy7bsbjfv00000gn/T/ipykernel_12086/1817582099.py\u001b[0m in \u001b[0;36m<module>\u001b[0;34m\u001b[0m\n\u001b[1;32m     31\u001b[0m         \u001b[0mprint\u001b[0m\u001b[0;34m(\u001b[0m\u001b[0;34m\"h9\"\u001b[0m\u001b[0;34m)\u001b[0m\u001b[0;34m\u001b[0m\u001b[0;34m\u001b[0m\u001b[0m\n\u001b[1;32m     32\u001b[0m \u001b[0;34m\u001b[0m\u001b[0m\n\u001b[0;32m---> 33\u001b[0;31m \u001b[0mf\u001b[0m\u001b[0;34m(\u001b[0m\u001b[0;36m1\u001b[0m\u001b[0;34m)\u001b[0m\u001b[0;34m\u001b[0m\u001b[0;34m\u001b[0m\u001b[0m\n\u001b[0m",
      "\u001b[0;32m/var/folders/mq/c9bp509d2_3_qrzy7bsbjfv00000gn/T/ipykernel_12086/1817582099.py\u001b[0m in \u001b[0;36mf\u001b[0;34m(x)\u001b[0m\n\u001b[1;32m      3\u001b[0m         \u001b[0mprint\u001b[0m\u001b[0;34m(\u001b[0m\u001b[0;34m\"f1\"\u001b[0m\u001b[0;34m)\u001b[0m\u001b[0;34m\u001b[0m\u001b[0;34m\u001b[0m\u001b[0m\n\u001b[1;32m      4\u001b[0m         \u001b[0mprint\u001b[0m\u001b[0;34m(\u001b[0m\u001b[0;34m\"f2\"\u001b[0m\u001b[0;34m)\u001b[0m\u001b[0;34m\u001b[0m\u001b[0;34m\u001b[0m\u001b[0m\n\u001b[0;32m----> 5\u001b[0;31m         \u001b[0mg\u001b[0m\u001b[0;34m(\u001b[0m\u001b[0mx\u001b[0m\u001b[0;34m)\u001b[0m\u001b[0;34m\u001b[0m\u001b[0;34m\u001b[0m\u001b[0m\n\u001b[0m\u001b[1;32m      6\u001b[0m         \u001b[0mprint\u001b[0m\u001b[0;34m(\u001b[0m\u001b[0;34m\"f3\"\u001b[0m\u001b[0;34m)\u001b[0m\u001b[0;34m\u001b[0m\u001b[0;34m\u001b[0m\u001b[0m\n\u001b[1;32m      7\u001b[0m     \u001b[0;32mexcept\u001b[0m \u001b[0mTypeError\u001b[0m\u001b[0;34m:\u001b[0m\u001b[0;34m\u001b[0m\u001b[0;34m\u001b[0m\u001b[0m\n",
      "\u001b[0;32m/var/folders/mq/c9bp509d2_3_qrzy7bsbjfv00000gn/T/ipykernel_12086/1817582099.py\u001b[0m in \u001b[0;36mg\u001b[0;34m(x)\u001b[0m\n\u001b[1;32m     20\u001b[0m     \u001b[0;32mexcept\u001b[0m \u001b[0mEOFError\u001b[0m\u001b[0;34m:\u001b[0m\u001b[0;34m\u001b[0m\u001b[0;34m\u001b[0m\u001b[0m\n\u001b[1;32m     21\u001b[0m         \u001b[0mprint\u001b[0m\u001b[0;34m(\u001b[0m\u001b[0;34m\"h4\"\u001b[0m\u001b[0;34m)\u001b[0m\u001b[0;34m\u001b[0m\u001b[0;34m\u001b[0m\u001b[0m\n\u001b[0;32m---> 22\u001b[0;31m         \u001b[0;32mraise\u001b[0m \u001b[0mMemoryError\u001b[0m\u001b[0;34m\u001b[0m\u001b[0;34m\u001b[0m\u001b[0m\n\u001b[0m\u001b[1;32m     23\u001b[0m     \u001b[0;32mfinally\u001b[0m\u001b[0;34m:\u001b[0m\u001b[0;34m\u001b[0m\u001b[0;34m\u001b[0m\u001b[0m\n\u001b[1;32m     24\u001b[0m         \u001b[0mprint\u001b[0m\u001b[0;34m(\u001b[0m\u001b[0;34m\"g5\"\u001b[0m\u001b[0;34m)\u001b[0m\u001b[0;34m\u001b[0m\u001b[0;34m\u001b[0m\u001b[0m\n",
      "\u001b[0;31mMemoryError\u001b[0m: "
     ]
    }
   ],
   "source": [
    "def f(x: int):\n",
    "    try:\n",
    "        print(\"f1\")\n",
    "        print(\"f2\")\n",
    "        g(x)\n",
    "        print(\"f3\")\n",
    "    except TypeError:\n",
    "            print(\"g2\")\n",
    "    else:\n",
    "        print(\"h1\")\n",
    "    finally:\n",
    "        print(\"f5\")\n",
    "\n",
    "def g(x: int):\n",
    "    try:\n",
    "        print(\"g1\")\n",
    "        h(x)\n",
    "        raise TypeError(\"Only integers are allowed\")\n",
    "        print(\"g3\")\n",
    "    except EOFError:\n",
    "        print(\"h4\")\n",
    "        raise MemoryError\n",
    "    finally:\n",
    "        print(\"g5\")\n",
    "        \n",
    "def h(x: int):\n",
    "    try:\n",
    "        raise EOFError\n",
    "        print(\"h7\")\n",
    "    finally:\n",
    "        print(\"h9\")\n",
    "        \n",
    "f(1)"
   ]
  },
  {
   "cell_type": "code",
   "execution_count": null,
   "id": "c4a1c3b9",
   "metadata": {},
   "outputs": [],
   "source": []
  }
 ],
 "metadata": {
  "kernelspec": {
   "display_name": "Python 3 (ipykernel)",
   "language": "python",
   "name": "python3"
  },
  "language_info": {
   "codemirror_mode": {
    "name": "ipython",
    "version": 3
   },
   "file_extension": ".py",
   "mimetype": "text/x-python",
   "name": "python",
   "nbconvert_exporter": "python",
   "pygments_lexer": "ipython3",
   "version": "3.9.7"
  }
 },
 "nbformat": 4,
 "nbformat_minor": 5
}
