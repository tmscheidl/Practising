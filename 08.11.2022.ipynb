{
 "cells": [
  {
   "cell_type": "code",
   "execution_count": 32,
   "id": "7a4bbfd0",
   "metadata": {},
   "outputs": [
    {
     "name": "stdout",
     "output_type": "stream",
     "text": [
      "Enter a row: 2 3 3\n",
      "Enter a row: 3 3 3\n",
      "Enter a row: x\n",
      "[['2', '3', '3'], ['3', '3', '3']]\n",
      "\n",
      "\n",
      "['2', '3', '3']\n",
      "['3', '3', '3']\n",
      "<class 'list'>\n",
      "\n",
      "\n"
     ]
    }
   ],
   "source": [
    "row = []\n",
    "matrix_sum = int\n",
    "t = []\n",
    "\n",
    "while True:\n",
    "    ele = list(input(\"Enter a row: \"))\n",
    "    if 'x' in ele:\n",
    "        break\n",
    "    else:\n",
    "        for t in ele:\n",
    "                if t == ' ':\n",
    "                    ele.remove(t)\n",
    "        row.append(ele)\n",
    "        \n",
    "print(row)\n",
    "print(\"\\n\")\n",
    "for i in row:\n",
    "    print(i)\n",
    "print(type(row))\n",
    "print(\"\\n\")\n"
   ]
  },
  {
   "cell_type": "code",
   "execution_count": 31,
   "id": "e21671d5",
   "metadata": {},
   "outputs": [
    {
     "name": "stdout",
     "output_type": "stream",
     "text": [
      "Welcome to Powerlifting Data Collector!\n",
      "\n",
      "\n",
      "Available actions:\n",
      "a - Add lifter\n",
      "r - Remove lifter\n",
      "u - Update lifter\n",
      "v - View lifters\n",
      "x - Exit the program\n",
      "Enter action: x\n",
      "Bye!\n"
     ]
    }
   ],
   "source": [
    "import pprint\n",
    "\n",
    "\n",
    "print(\"Welcome to Powerlifting Data Collector!\")\n",
    "print(\"\\n\")\n",
    "print(\"Available actions:\")\n",
    "print(\"a - Add lifter\")\n",
    "print(\"r - Remove lifter\")\n",
    "print(\"u - Update lifter\")\n",
    "print(\"v - View lifters\")\n",
    "print(\"x - Exit the program\")\n",
    "\n",
    "d = {}\n",
    "while True:\n",
    "    x = input(\"Enter action: \").lower()\n",
    "    if x == 'a':\n",
    "        lifter = input(\"Enter new lifter name: \")\n",
    "        \n",
    "        if lifter in d:\n",
    "            print(\"Lifter \", lifter ,\" already exists!\")\n",
    "        else:\n",
    "            d[lifter] = {}\n",
    "            d[lifter][\"Name\"] = lifter\n",
    "            d[lifter][\"squat\"] = []\n",
    "            d[lifter][\"bench press\"] = []\n",
    "            d[lifter][\"deadlift\"] = []\n",
    "\n",
    "    elif x == 'r':\n",
    "        lifter = input(\"Enter new lifter name: \")\n",
    "        \n",
    "        if lifter in d:\n",
    "            \n",
    "            del d[lifter]\n",
    "        else:\n",
    "            print(\"Lifter \", lifter ,\"does not exist!\")\n",
    "\n",
    "    elif x == 'u':\n",
    "        lifter = input(\"Enter new lifter name: \")\n",
    "        \n",
    "        if lifter in d:\n",
    "            u = input(\"Enter lift (one of 'squat', 'bench press', 'deadlift'):\")\n",
    "            \n",
    "            if u == 'squat':\n",
    "                squat = input()\n",
    "                d[lifter][\"squat\"] = squat\n",
    "                \n",
    "            elif u == 'bench press':\n",
    "                bench_press = input()\n",
    "                d[lifter][\"bench press\"] = bench_press\n",
    "                \n",
    "            elif u == 'deadlift':\n",
    "                deadlift = input()\n",
    "                d[lifter][\"deadlift\"] = deadlift\n",
    "            else:\n",
    "                print(\"Invalid action '\",u,\"'. Try again!\")\n",
    "                \n",
    "        else:\n",
    "            print(\"Lifter \", lifter ,\"does not exist!\")\n",
    "            \n",
    "    elif x == 'v':\n",
    "        for v, p in d.items():\n",
    "            print(\"------------------------------\")\n",
    "            for key in p:\n",
    "            #print(*d[v].items() ,sep='\\n')            \n",
    "                print(key + ':', p[key])\n",
    "            print(\"\\n\")\n",
    "           # print(d)\n",
    "        \n",
    "    elif x == 'x':\n",
    "        print(\"Bye!\")\n",
    "        break\n",
    "    else:\n",
    "        print(\"Invalid action '\",x,\"'. Try again!\")"
   ]
  },
  {
   "cell_type": "code",
   "execution_count": null,
   "id": "3b0cf7b2",
   "metadata": {},
   "outputs": [],
   "source": []
  },
  {
   "cell_type": "code",
   "execution_count": null,
   "id": "4c16f218",
   "metadata": {},
   "outputs": [],
   "source": []
  }
 ],
 "metadata": {
  "kernelspec": {
   "display_name": "Python 3",
   "language": "python",
   "name": "python3"
  },
  "language_info": {
   "codemirror_mode": {
    "name": "ipython",
    "version": 3
   },
   "file_extension": ".py",
   "mimetype": "text/x-python",
   "name": "python",
   "nbconvert_exporter": "python",
   "pygments_lexer": "ipython3",
   "version": "3.6.13"
  }
 },
 "nbformat": 4,
 "nbformat_minor": 5
}
